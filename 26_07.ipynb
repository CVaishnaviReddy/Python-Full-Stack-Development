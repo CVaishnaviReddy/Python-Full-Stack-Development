{
  "nbformat": 4,
  "nbformat_minor": 0,
  "metadata": {
    "colab": {
      "name": "26.07.ipynb",
      "provenance": [],
      "authorship_tag": "ABX9TyMAiM/ske1m5XLVH6Yl4I9g",
      "include_colab_link": true
    },
    "kernelspec": {
      "name": "python3",
      "display_name": "Python 3"
    },
    "language_info": {
      "name": "python"
    }
  },
  "cells": [
    {
      "cell_type": "markdown",
      "metadata": {
        "id": "view-in-github",
        "colab_type": "text"
      },
      "source": [
        "<a href=\"https://colab.research.google.com/github/CVaishnaviReddy/Python-Full-Stack-Development/blob/main/26_07.ipynb\" target=\"_parent\"><img src=\"https://colab.research.google.com/assets/colab-badge.svg\" alt=\"Open In Colab\"/></a>"
      ]
    },
    {
      "cell_type": "code",
      "execution_count": 1,
      "metadata": {
        "colab": {
          "base_uri": "https://localhost:8080/"
        },
        "id": "nY4Sxobysatk",
        "outputId": "d9f01440-7764-4cad-8f8b-2303f1c88e07"
      },
      "outputs": [
        {
          "output_type": "stream",
          "name": "stdout",
          "text": [
            "(1, 2, 3)\n",
            "(4, 5, 6)\n",
            "(1, 2, 3, 4, 5, 6)\n"
          ]
        }
      ],
      "source": [
        "tpl1=(1,2,3)\n",
        "tpl2=(4,5,6)\n",
        "tpl3=tpl1+tpl2\n",
        "print(tpl1)\n",
        "print(tpl2)\n",
        "print(tpl3)"
      ]
    },
    {
      "cell_type": "code",
      "source": [
        "my_tuple=()\n",
        "print(my_tuple)"
      ],
      "metadata": {
        "colab": {
          "base_uri": "https://localhost:8080/"
        },
        "id": "-JwTn7vitpxj",
        "outputId": "0c981b0f-9be7-4127-d6c1-f5c449903314"
      },
      "execution_count": 3,
      "outputs": [
        {
          "output_type": "stream",
          "name": "stdout",
          "text": [
            "()\n"
          ]
        }
      ]
    },
    {
      "cell_type": "code",
      "source": [
        "print(type(tpl3))"
      ],
      "metadata": {
        "colab": {
          "base_uri": "https://localhost:8080/"
        },
        "id": "Qv5MEHhuuDV6",
        "outputId": "deed7af4-c3ab-42f7-ef03-d0b9a0b9e4ef"
      },
      "execution_count": 4,
      "outputs": [
        {
          "output_type": "stream",
          "name": "stdout",
          "text": [
            "<class 'tuple'>\n"
          ]
        }
      ]
    }
  ]
}