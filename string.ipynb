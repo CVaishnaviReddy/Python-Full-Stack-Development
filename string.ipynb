{
  "nbformat": 4,
  "nbformat_minor": 0,
  "metadata": {
    "colab": {
      "name": "Untitled4.ipynb",
      "provenance": [],
      "authorship_tag": "ABX9TyNslYyNxM9BjOkYwEq0u6SU",
      "include_colab_link": true
    },
    "kernelspec": {
      "name": "python3",
      "display_name": "Python 3"
    },
    "language_info": {
      "name": "python"
    }
  },
  "cells": [
    {
      "cell_type": "markdown",
      "metadata": {
        "id": "view-in-github",
        "colab_type": "text"
      },
      "source": [
        "<a href=\"https://colab.research.google.com/github/CVaishnaviReddy/Python-Full-Stack-Development/blob/main/string.ipynb\" target=\"_parent\"><img src=\"https://colab.research.google.com/assets/colab-badge.svg\" alt=\"Open In Colab\"/></a>"
      ]
    },
    {
      "cell_type": "code",
      "execution_count": 1,
      "metadata": {
        "colab": {
          "base_uri": "https://localhost:8080/"
        },
        "id": "8O6-Jj1oKCPv",
        "outputId": "423ed5d7-2005-49f0-9efa-48abfdd96126"
      },
      "outputs": [
        {
          "output_type": "stream",
          "name": "stdout",
          "text": [
            "Enter your name : Vaishnavi Reddy\n",
            "Welcome Vaishnavi Reddy\n",
            "Length your name :  15\n",
            "Maximum value of the characters :  y\n",
            "Minimum value of the characters :   \n"
          ]
        }
      ],
      "source": [
        "name=input(\"Enter your name : \")\n",
        "print(\"Welcome\",name)\n",
        "print(\"Length your name : \",len(name))\n",
        "print(\"Maximum value of the characters : \",max(name))\n",
        "print(\"Minimum value of the characters : \",min(name))"
      ]
    },
    {
      "cell_type": "code",
      "source": [
        "str1=\"black\"\n",
        "str2=\"blue\"\n",
        "print(\"Is both equal:\", str1==str2)\n",
        "print(\"Is str1>str2:\", str1>str2)\n",
        "print(\"Is str1<str2:\", str1<str2)"
      ],
      "metadata": {
        "colab": {
          "base_uri": "https://localhost:8080/"
        },
        "id": "DU8WoKZKM2Ng",
        "outputId": "b8ba09de-d095-4b00-b06c-f309b34fb9c2"
      },
      "execution_count": 4,
      "outputs": [
        {
          "output_type": "stream",
          "name": "stdout",
          "text": [
            "Is both equal: False\n",
            "Is str1>str2: False\n",
            "Is str1<str2: True\n"
          ]
        }
      ]
    },
    {
      "cell_type": "code",
      "source": [
        "str1=\"green\"\n",
        "str2=\"y\"\n",
        "print(\"is str1<str2\",str1<str2)"
      ],
      "metadata": {
        "id": "cFepwB68SGZP",
        "outputId": "8598f6c0-533d-4c87-9d44-551846596614",
        "colab": {
          "base_uri": "https://localhost:8080/"
        }
      },
      "execution_count": 5,
      "outputs": [
        {
          "output_type": "stream",
          "name": "stdout",
          "text": [
            "is str1<str2 True\n"
          ]
        }
      ]
    },
    {
      "cell_type": "code",
      "source": [
        "str1=\"gray\"\n",
        "str2=\"grayyyyyyy\"\n",
        "print(q)"
      ],
      "metadata": {
        "id": "oAQGPl7sTC_K"
      },
      "execution_count": null,
      "outputs": []
    }
  ]
}